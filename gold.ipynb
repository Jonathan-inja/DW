{
 "cells": [
  {
   "cell_type": "code",
   "execution_count": 1,
   "metadata": {},
   "outputs": [],
   "source": [
    "import os\n",
    "import pandas as pd\n",
    "from uuid import uuid4"
   ]
  },
  {
   "cell_type": "code",
   "execution_count": 2,
   "metadata": {},
   "outputs": [],
   "source": [
    "# Definição das camadas\n",
    "dir_silver = \"silver\"\n",
    "dir_gold = \"gold\"\n",
    "os.makedirs(dir_gold, exist_ok=True)"
   ]
  },
  {
   "cell_type": "code",
   "execution_count": 3,
   "metadata": {},
   "outputs": [],
   "source": [
    "# Criar diretórios para cada dimensão e fato\n",
    "os.makedirs(f\"{dir_gold}/dim_cliente\", exist_ok=True)\n",
    "os.makedirs(f\"{dir_gold}/dim_vendedor\", exist_ok=True)\n",
    "os.makedirs(f\"{dir_gold}/dim_produto\", exist_ok=True)\n",
    "os.makedirs(f\"{dir_gold}/dim_pagamento\", exist_ok=True)\n",
    "os.makedirs(f\"{dir_gold}/dim_avaliacao\", exist_ok=True)\n",
    "os.makedirs(f\"{dir_gold}/dim_geolocalizacao\", exist_ok=True)\n",
    "os.makedirs(f\"{dir_gold}/fato_pedidos\", exist_ok=True)"
   ]
  },
  {
   "cell_type": "code",
   "execution_count": 4,
   "metadata": {},
   "outputs": [],
   "source": [
    "# Carregar tabelas da camada Silver\n",
    "customers = pd.read_parquet(f\"{dir_silver}/customers\")\n",
    "sellers = pd.read_parquet(f\"{dir_silver}/sellers\")\n",
    "products = pd.read_parquet(f\"{dir_silver}/products\")\n",
    "product_category_translation = pd.read_parquet(f\"{dir_silver}/product_category_name_translation\")\n",
    "order_items = pd.read_parquet(f\"{dir_silver}/order_items\")\n",
    "order_payments = pd.read_parquet(f\"{dir_silver}/order_payments\")\n",
    "order_reviews = pd.read_parquet(f\"{dir_silver}/order_reviews\")\n",
    "orders = pd.read_parquet(f\"{dir_silver}/orders\")\n",
    "geolocation = pd.read_parquet(f\"{dir_silver}/geolocation\")"
   ]
  },
  {
   "cell_type": "code",
   "execution_count": 5,
   "metadata": {},
   "outputs": [],
   "source": [
    "# Função para gerar UUID\n",
    "def generate_uuid(df, column_name):\n",
    "    df[column_name] = [str(uuid4()) for _ in range(len(df))]\n",
    "    return df"
   ]
  },
  {
   "cell_type": "code",
   "execution_count": 6,
   "metadata": {},
   "outputs": [],
   "source": [
    "# Criar Dimensão Cliente\n",
    "dim_cliente = customers.copy()\n",
    "dim_cliente = generate_uuid(dim_cliente, \"customer_sk\")\n",
    "dim_cliente.to_parquet(f\"{dir_gold}/dim_cliente/dim_cliente.parquet\", index=False)"
   ]
  },
  {
   "cell_type": "code",
   "execution_count": 7,
   "metadata": {},
   "outputs": [],
   "source": [
    "# Criar Dimensão Vendedor\n",
    "dim_vendedor = sellers.copy()\n",
    "dim_vendedor = generate_uuid(dim_vendedor, \"seller_sk\")\n",
    "dim_vendedor.to_parquet(f\"{dir_gold}/dim_vendedor/dim_vendedor.parquet\", index=False)"
   ]
  },
  {
   "cell_type": "code",
   "execution_count": 8,
   "metadata": {},
   "outputs": [],
   "source": [
    "# Criar Dimensão Produto\n",
    "dim_produto = products.merge(product_category_translation, on=\"product_category_name\", how=\"left\")\n",
    "dim_produto = generate_uuid(dim_produto, \"product_sk\")\n",
    "dim_produto.to_parquet(f\"{dir_gold}/dim_produto/dim_produto.parquet\", index=False)"
   ]
  },
  {
   "cell_type": "code",
   "execution_count": 9,
   "metadata": {},
   "outputs": [],
   "source": [
    "# Criar Dimensão Pagamento\n",
    "dim_pagamento = order_payments.copy()\n",
    "dim_pagamento = generate_uuid(dim_pagamento, \"payment_sk\")\n",
    "dim_pagamento.to_parquet(f\"{dir_gold}/dim_pagamento/dim_pagamento.parquet\", index=False)"
   ]
  },
  {
   "cell_type": "code",
   "execution_count": 10,
   "metadata": {},
   "outputs": [],
   "source": [
    "# Criar Dimensão Avaliação\n",
    "dim_avaliacao = order_reviews.copy()\n",
    "dim_avaliacao = generate_uuid(dim_avaliacao, \"review_sk\")\n",
    "dim_avaliacao.to_parquet(f\"{dir_gold}/dim_avaliacao/dim_avaliacao.parquet\", index=False)"
   ]
  },
  {
   "cell_type": "code",
   "execution_count": 11,
   "metadata": {},
   "outputs": [],
   "source": [
    "# Criar Dimensão Geolocalização\n",
    "dim_geolocalizacao = geolocation.copy()\n",
    "dim_geolocalizacao = generate_uuid(dim_geolocalizacao, \"geolocation_sk\")\n",
    "dim_geolocalizacao.to_parquet(f\"{dir_gold}/dim_geolocalizacao/dim_geolocalizacao.parquet\", index=False)"
   ]
  },
  {
   "cell_type": "code",
   "execution_count": 12,
   "metadata": {},
   "outputs": [],
   "source": [
    "# Criar Fato Pedido\n",
    "fato_pedidos = orders.merge(order_items, on=\"order_id\", how=\"left\")\n",
    "fato_pedidos = fato_pedidos.merge(order_payments, on=\"order_id\", how=\"left\")\n",
    "fato_pedidos = fato_pedidos.merge(order_reviews, on=\"order_id\", how=\"left\")"
   ]
  },
  {
   "cell_type": "code",
   "execution_count": 13,
   "metadata": {},
   "outputs": [],
   "source": [
    "# Agregações necessárias\n",
    "fato_pedidos = fato_pedidos.groupby([\n",
    "    \"order_id\", \"customer_id\", \"seller_id\", \"product_id\", \"order_status\",\n",
    "    \"order_purchase_timestamp\", \"order_approved_at\", \"order_delivered_carrier_date\",\n",
    "    \"order_delivered_customer_date\", \"order_estimated_delivery_date\"\n",
    "], as_index=False).agg({\n",
    "    \"price\": \"sum\",\n",
    "    \"freight_value\": \"sum\",\n",
    "    \"order_item_id\": \"count\",\n",
    "    \"review_score\": \"mean\",\n",
    "    \"payment_value\": \"sum\",\n",
    "    \"payment_installments\": \"max\"\n",
    "})"
   ]
  },
  {
   "cell_type": "code",
   "execution_count": 14,
   "metadata": {},
   "outputs": [],
   "source": [
    "# Renomear colunas agregadas\n",
    "fato_pedidos.rename(columns={\n",
    "    \"price\": \"total_price\",\n",
    "    \"freight_value\": \"total_freight_value\",\n",
    "    \"order_item_id\": \"product_count\",\n",
    "    \"review_score\": \"avg_review_score\",\n",
    "    \"payment_value\": \"total_payment_value\",\n",
    "    \"payment_installments\": \"max_payment_installments\"\n",
    "}, inplace=True)"
   ]
  },
  {
   "cell_type": "code",
   "execution_count": 15,
   "metadata": {},
   "outputs": [],
   "source": [
    "# Merge com dimensões\n",
    "fato_pedidos = fato_pedidos.merge(dim_cliente[[\"customer_id\", \"customer_sk\"]], on=\"customer_id\", how=\"left\")\n",
    "fato_pedidos = fato_pedidos.merge(dim_vendedor[[\"seller_id\", \"seller_sk\"]], on=\"seller_id\", how=\"left\")\n",
    "fato_pedidos = fato_pedidos.merge(dim_produto[[\"product_id\", \"product_sk\"]], on=\"product_id\", how=\"left\")\n",
    "fato_pedidos = fato_pedidos.merge(dim_pagamento[[\"order_id\", \"payment_sk\"]], on=\"order_id\", how=\"left\")\n",
    "fato_pedidos = fato_pedidos.merge(dim_avaliacao[[\"order_id\", \"review_sk\"]], on=\"order_id\", how=\"left\")"
   ]
  },
  {
   "cell_type": "code",
   "execution_count": 16,
   "metadata": {},
   "outputs": [],
   "source": [
    "# Salvar tabela fato\n",
    "fato_pedidos.to_parquet(f\"{dir_gold}/fato_pedidos/fato_pedidos.parquet\", index=False)"
   ]
  },
  {
   "cell_type": "code",
   "execution_count": null,
   "metadata": {},
   "outputs": [],
   "source": []
  }
 ],
 "metadata": {
  "kernelspec": {
   "display_name": "Python 3",
   "language": "python",
   "name": "python3"
  },
  "language_info": {
   "codemirror_mode": {
    "name": "ipython",
    "version": 3
   },
   "file_extension": ".py",
   "mimetype": "text/x-python",
   "name": "python",
   "nbconvert_exporter": "python",
   "pygments_lexer": "ipython3",
   "version": "3.11.9"
  }
 },
 "nbformat": 4,
 "nbformat_minor": 2
}
