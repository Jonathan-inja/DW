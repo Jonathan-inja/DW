{
 "cells": [
  {
   "cell_type": "code",
   "execution_count": 1,
   "metadata": {},
   "outputs": [],
   "source": [
    "import os\n",
    "import pandas as pd\n",
    "\n",
    "# Diretórios de entrada (CSV) e saída (Parquet)\n",
    "camada_origem = \"landing\"\n",
    "camada_destino = \"bronze\"\n"
   ]
  },
  {
   "cell_type": "code",
   "execution_count": 2,
   "metadata": {},
   "outputs": [],
   "source": [
    "# Diretórios de entrada (CSV) e saída (Parquet)\n",
    "camada_origem = \"landing\"\n",
    "camada_destino = \"bronze\""
   ]
  },
  {
   "cell_type": "code",
   "execution_count": 3,
   "metadata": {},
   "outputs": [],
   "source": [
    "# Criar diretórios base se não existirem\n",
    "os.makedirs(camada_origem, exist_ok=True)\n",
    "os.makedirs(camada_destino, exist_ok=True)"
   ]
  },
  {
   "cell_type": "code",
   "execution_count": 4,
   "metadata": {},
   "outputs": [],
   "source": [
    "# Lista de tabelas e seus respectivos arquivos CSV\n",
    "tabelas = {\n",
    "    \"customers\": \"olist_customers_dataset.csv\",\n",
    "    \"geolocation\": \"olist_geolocation_dataset.csv\",\n",
    "    \"orders\": \"olist_orders_dataset.csv\",\n",
    "    \"order_items\": \"olist_order_items_dataset.csv\",\n",
    "    \"order_payments\": \"olist_order_payments_dataset.csv\",\n",
    "    \"order_reviews\": \"olist_order_reviews_dataset.csv\",\n",
    "    \"products\": \"olist_products_dataset.csv\",\n",
    "    \"sellers\": \"olist_sellers_dataset.csv\",\n",
    "    \"product_category_name_translation\": \"product_category_name_translation.csv\",\n",
    "}"
   ]
  },
  {
   "cell_type": "code",
   "execution_count": 5,
   "metadata": {},
   "outputs": [
    {
     "name": "stdout",
     "output_type": "stream",
     "text": [
      "Tabela customers convertida para Parquet em bronze\\customers.\n",
      "Tabela geolocation convertida para Parquet em bronze\\geolocation.\n",
      "Tabela orders convertida para Parquet em bronze\\orders.\n",
      "Tabela order_items convertida para Parquet em bronze\\order_items.\n",
      "Tabela order_payments convertida para Parquet em bronze\\order_payments.\n",
      "Tabela order_reviews convertida para Parquet em bronze\\order_reviews.\n",
      "Tabela products convertida para Parquet em bronze\\products.\n",
      "Tabela sellers convertida para Parquet em bronze\\sellers.\n",
      "Tabela product_category_name_translation convertida para Parquet em bronze\\product_category_name_translation.\n"
     ]
    }
   ],
   "source": [
    "# Loop para processar cada tabela\n",
    "for nome_tabela, arquivo_csv in tabelas.items():\n",
    "    caminho_csv = os.path.join(camada_origem, arquivo_csv)\n",
    "    diretorio_parquet = os.path.join(camada_destino, nome_tabela)  # Criar diretório específico para cada tabela\n",
    "    os.makedirs(diretorio_parquet, exist_ok=True)  # Criar diretório se não existir\n",
    "    caminho_parquet = os.path.join(diretorio_parquet, nome_tabela + \".parquet\")\n",
    "\n",
    "    if os.path.exists(caminho_csv):\n",
    "        df = pd.read_csv(caminho_csv, encoding=\"utf-8\")\n",
    "        df.to_parquet(caminho_parquet, index=False, engine=\"pyarrow\")\n",
    "        print(f\"Tabela {nome_tabela} convertida para Parquet em {diretorio_parquet}.\")\n",
    "    else:\n",
    "        print(f\"Aviso: Arquivo {caminho_csv} não encontrado.\")"
   ]
  }
 ],
 "metadata": {
  "kernelspec": {
   "display_name": "Python 3",
   "language": "python",
   "name": "python3"
  },
  "language_info": {
   "codemirror_mode": {
    "name": "ipython",
    "version": 3
   },
   "file_extension": ".py",
   "mimetype": "text/x-python",
   "name": "python",
   "nbconvert_exporter": "python",
   "pygments_lexer": "ipython3",
   "version": "3.11.9"
  }
 },
 "nbformat": 4,
 "nbformat_minor": 2
}
