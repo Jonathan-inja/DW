{
 "cells": [
  {
   "cell_type": "code",
   "execution_count": 39,
   "metadata": {},
   "outputs": [],
   "source": [
    "import os\n",
    "import pandas as pd\n",
    "import pyarrow.parquet as pq\n",
    "from sqlalchemy import create_engine"
   ]
  },
  {
   "cell_type": "code",
   "execution_count": 40,
   "metadata": {},
   "outputs": [],
   "source": [
    "# Caminho do diretório onde as pastas de arquivos Parquet estão armazenados\n",
    "parquet_directory_path = 'gold/'"
   ]
  },
  {
   "cell_type": "code",
   "execution_count": 41,
   "metadata": {},
   "outputs": [],
   "source": [
    "# Dados de conexão com o PostgreSQL\n",
    "user = 'postgres'\n",
    "password = 'root'\n",
    "host = 'localhost'\n",
    "port = '5432'\n",
    "database = 'postgres'"
   ]
  },
  {
   "cell_type": "code",
   "execution_count": 42,
   "metadata": {},
   "outputs": [],
   "source": [
    "# Criar a string de conexão com PostgreSQL\n",
    "connection_string = f'postgresql+psycopg2://{user}:{password}@{host}:{port}/{database}'"
   ]
  },
  {
   "cell_type": "code",
   "execution_count": 43,
   "metadata": {},
   "outputs": [],
   "source": [
    "# Criar o motor de conexão\n",
    "engine = create_engine(connection_string)"
   ]
  },
  {
   "cell_type": "code",
   "execution_count": 44,
   "metadata": {},
   "outputs": [],
   "source": [
    "\n",
    "def carregar_arquivos_parquet(parquet_directory_path, engine):\n",
    "    # Listar todos os diretórios na pasta gold/\n",
    "    diretorios = [d for d in os.listdir(parquet_directory_path) if os.path.isdir(os.path.join(parquet_directory_path, d))]\n",
    "\n",
    "    if not diretorios:\n",
    "        print(f'Nenhuma subpasta encontrada em {parquet_directory_path}.')\n",
    "        return\n",
    "\n",
    "    for diretorio in diretorios:\n",
    "        diretorio_path = os.path.join(parquet_directory_path, diretorio)\n",
    "        arquivos = [f for f in os.listdir(diretorio_path) if f.endswith('.parquet')]\n",
    "\n",
    "        if not arquivos:\n",
    "            print(f'Nenhum arquivo Parquet encontrado na pasta {diretorio_path}.')\n",
    "            continue\n",
    "\n",
    "        for arquivo in arquivos:\n",
    "            parquet_file_path = os.path.join(diretorio_path, arquivo)\n",
    "            \n",
    "            try:\n",
    "                # Ler o arquivo Parquet\n",
    "                df = pd.read_parquet(parquet_file_path, engine='pyarrow')\n",
    "                print(f\"Carregando dados de {arquivo}...\")\n",
    "                \n",
    "                # Converter colunas de bytes para string \n",
    "                for col in df.select_dtypes(include=['object']).columns:\n",
    "                    df[col] = df[col].astype(str)\n",
    "                \n",
    "                # Nome da tabela no PostgreSQL\n",
    "                table_name = diretorio  # Nome da subpasta como nome da tabela\n",
    "                \n",
    "                try:\n",
    "                    df.to_sql(table_name, engine, if_exists='replace', index=False)\n",
    "                    print(f\"Dados de {arquivo} carregados com sucesso na tabela {table_name}!\")\n",
    "                except Exception as e:\n",
    "                    print(f\"Erro ao carregar os dados de {arquivo}: {e}\")\n",
    "            \n",
    "            except Exception as e:\n",
    "                print(f\"Erro ao ler o arquivo {arquivo}: {e}\")"
   ]
  },
  {
   "cell_type": "code",
   "execution_count": 45,
   "metadata": {},
   "outputs": [
    {
     "name": "stdout",
     "output_type": "stream",
     "text": [
      "Carregando dados de dim_avaliacao.parquet...\n",
      "Dados de dim_avaliacao.parquet carregados com sucesso na tabela dim_avaliacao!\n",
      "Carregando dados de dim_cliente.parquet...\n",
      "Dados de dim_cliente.parquet carregados com sucesso na tabela dim_cliente!\n",
      "Carregando dados de dim_geolocalizacao.parquet...\n",
      "Dados de dim_geolocalizacao.parquet carregados com sucesso na tabela dim_geolocalizacao!\n",
      "Carregando dados de dim_pagamento.parquet...\n",
      "Dados de dim_pagamento.parquet carregados com sucesso na tabela dim_pagamento!\n",
      "Carregando dados de dim_produto.parquet...\n",
      "Dados de dim_produto.parquet carregados com sucesso na tabela dim_produto!\n",
      "Carregando dados de dim_vendedor.parquet...\n",
      "Dados de dim_vendedor.parquet carregados com sucesso na tabela dim_vendedor!\n",
      "Carregando dados de fato_pedidos.parquet...\n",
      "Dados de fato_pedidos.parquet carregados com sucesso na tabela fato_pedidos!\n"
     ]
    }
   ],
   "source": [
    "# Chama a função para carregar os arquivos Parquet\n",
    "carregar_arquivos_parquet(parquet_directory_path, engine)"
   ]
  },
  {
   "cell_type": "code",
   "execution_count": null,
   "metadata": {},
   "outputs": [],
   "source": []
  }
 ],
 "metadata": {
  "kernelspec": {
   "display_name": "Python 3",
   "language": "python",
   "name": "python3"
  },
  "language_info": {
   "codemirror_mode": {
    "name": "ipython",
    "version": 3
   },
   "file_extension": ".py",
   "mimetype": "text/x-python",
   "name": "python",
   "nbconvert_exporter": "python",
   "pygments_lexer": "ipython3",
   "version": "3.11.9"
  }
 },
 "nbformat": 4,
 "nbformat_minor": 2
}
